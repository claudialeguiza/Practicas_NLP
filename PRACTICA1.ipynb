{
  "nbformat": 4,
  "nbformat_minor": 0,
  "metadata": {
    "colab": {
      "private_outputs": true,
      "provenance": []
    },
    "kernelspec": {
      "name": "python3",
      "display_name": "Python 3"
    },
    "language_info": {
      "name": "python"
    }
  },
  "cells": [
    {
      "cell_type": "markdown",
      "source": [
        "PRACTICA 1\n",
        "\n",
        "EXTRACCION Y PROCESAMIENTO DE TEXTO"
      ],
      "metadata": {
        "id": "5BGz4-kxH32T"
      }
    },
    {
      "cell_type": "code",
      "execution_count": null,
      "metadata": {
        "id": "KXBNTJnS09uH"
      },
      "outputs": [],
      "source": [
        "#EJERCICIO 2\n",
        "from bs4 import BeautifulSoup\n",
        "\n",
        "with open('/content/tableros.yvera.tur.ar_tablero_ODS_.html', 'r') as archivo:\n",
        "    # Lee todo el contenido del archivo\n",
        "    contenido_html = archivo.read()\n",
        "\n",
        "# Crea un objeto BeautifulSoup\n",
        "soup = BeautifulSoup(contenido_html, 'lxml')\n",
        "\n",
        "\n",
        "indicadores = []\n",
        "indicador = {}\n",
        "\n",
        "titulo1 = soup.find('div', class_=\"row\").text\n",
        "print(titulo1)\n",
        "for div in soup.find_all ('div', class_=\"col-sm-4\"):\n",
        "\n",
        "    try:\n",
        "        indicador['valor'] = div.find('div', class_ = 'inner').text\n",
        "    except:\n",
        "        indicador['valor'] = ''\n",
        "\n",
        "    indicadores.append(indicador)\n",
        "\n",
        "    print(indicador['valor'])\n",
        "\n",
        "\n",
        "# Usa el método .text para obtener solo el texto, sin las etiquetas HTML\n",
        "texto_plano = soup.find('div', {'title' : \"Metodología\"}).text\n",
        "\n",
        "# Imprime el texto plano\n",
        "print(texto_plano)"
      ]
    },
    {
      "cell_type": "code",
      "source": [
        "#EJERCICIO 7\n",
        "\n",
        "#Archivo .txt\n",
        "\n",
        "# Abre el archivo en modo de lectura ('r')\n",
        "with open('loco.txt', 'r') as archivo:\n",
        "    # Lee e imprime todo el contenido del archivo\n",
        "   for linea in archivo:\n",
        "     print(linea)\n",
        "\n"
      ],
      "metadata": {
        "id": "IUC4hr8GNWCu"
      },
      "execution_count": null,
      "outputs": []
    },
    {
      "cell_type": "code",
      "source": [
        "!pip install pypdf2"
      ],
      "metadata": {
        "id": "FLWJ2S4lUBzh"
      },
      "execution_count": null,
      "outputs": []
    },
    {
      "cell_type": "code",
      "source": [
        "#EJERCICIO 7\n",
        "\n",
        "#ARCHIVO .pdf\n",
        "import PyPDF2\n",
        "\n",
        "# Abre el archivo en modo binario de lectura ('rb')\n",
        "with open('/content/PROYECTO DE LEY TURISMO SOCIAL 2004.pdf', 'rb') as archivo:\n",
        "    # Crea un objeto PdfFileReader\n",
        "    lector = PyPDF2.PdfReader(archivo)\n",
        "\n",
        "    # Inicializa una cadena vacía para almacenar el texto\n",
        "    texto = ''\n",
        "\n",
        "    # Itera sobre todas las páginas del PDF\n",
        "    for i in range(len(lector.pages)):\n",
        "        # Obtiene la página\n",
        "        pagina = lector.pages[i]\n",
        "\n",
        "        # Extrae el texto de la página y lo añade a la cadena de texto\n",
        "        texto += pagina.extract_text()\n",
        "\n",
        "# Imprime el texto extraído\n",
        "print(texto)"
      ],
      "metadata": {
        "id": "O2pyQnZiSsfi"
      },
      "execution_count": null,
      "outputs": []
    },
    {
      "cell_type": "code",
      "source": [
        "#EJERCICIO 7\n",
        "#ARCHIVO .pkl\n",
        "\n",
        "import pickle\n",
        "\n",
        "with open('loco.pkl', 'rb') as archivo:\n",
        "  todo = pickle.load(archivo)\n",
        "  print(todo)\n"
      ],
      "metadata": {
        "id": "CyBz9mrJZ8aE"
      },
      "execution_count": null,
      "outputs": []
    }
  ]
}