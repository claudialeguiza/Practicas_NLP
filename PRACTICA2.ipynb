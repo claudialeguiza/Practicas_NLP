{
  "nbformat": 4,
  "nbformat_minor": 0,
  "metadata": {
    "colab": {
      "provenance": [],
      "cell_execution_strategy": "setup"
    },
    "kernelspec": {
      "name": "python3",
      "display_name": "Python 3"
    },
    "language_info": {
      "name": "python"
    }
  },
  "cells": [
    {
      "cell_type": "code",
      "source": [
        "!pip install pypdf2"
      ],
      "metadata": {
        "id": "S-FcjxPgmwKX",
        "colab": {
          "base_uri": "https://localhost:8080/"
        },
        "outputId": "d902fff3-8d7b-4362-d50c-eac593eb2648"
      },
      "execution_count": 860,
      "outputs": [
        {
          "output_type": "stream",
          "name": "stdout",
          "text": [
            "Requirement already satisfied: pypdf2 in /usr/local/lib/python3.10/dist-packages (3.0.1)\n"
          ]
        }
      ]
    },
    {
      "cell_type": "code",
      "source": [
        "!pip install unidecode"
      ],
      "metadata": {
        "id": "gMp2FIwXSVaK",
        "colab": {
          "base_uri": "https://localhost:8080/"
        },
        "outputId": "b008a17e-4bec-4f46-cf70-50a895606612"
      },
      "execution_count": 861,
      "outputs": [
        {
          "output_type": "stream",
          "name": "stdout",
          "text": [
            "Requirement already satisfied: unidecode in /usr/local/lib/python3.10/dist-packages (1.3.8)\n"
          ]
        }
      ]
    },
    {
      "cell_type": "code",
      "source": [
        "# Descargamos el paquete de la libreria spacy\n",
        "!python -m spacy download es_core_news_sm"
      ],
      "metadata": {
        "id": "7iFBsdk3o5kE",
        "colab": {
          "base_uri": "https://localhost:8080/"
        },
        "outputId": "96cd2501-d792-4d70-fe75-2460b8fd93f6"
      },
      "execution_count": 862,
      "outputs": [
        {
          "output_type": "stream",
          "name": "stdout",
          "text": [
            "Collecting es-core-news-sm==3.7.0\n",
            "  Downloading https://github.com/explosion/spacy-models/releases/download/es_core_news_sm-3.7.0/es_core_news_sm-3.7.0-py3-none-any.whl (12.9 MB)\n",
            "\u001b[2K     \u001b[90m━━━━━━━━━━━━━━━━━━━━━━━━━━━━━━━━━━━━━━━━\u001b[0m \u001b[32m12.9/12.9 MB\u001b[0m \u001b[31m20.9 MB/s\u001b[0m eta \u001b[36m0:00:00\u001b[0m\n",
            "\u001b[?25hRequirement already satisfied: spacy<3.8.0,>=3.7.0 in /usr/local/lib/python3.10/dist-packages (from es-core-news-sm==3.7.0) (3.7.4)\n",
            "Requirement already satisfied: spacy-legacy<3.1.0,>=3.0.11 in /usr/local/lib/python3.10/dist-packages (from spacy<3.8.0,>=3.7.0->es-core-news-sm==3.7.0) (3.0.12)\n",
            "Requirement already satisfied: spacy-loggers<2.0.0,>=1.0.0 in /usr/local/lib/python3.10/dist-packages (from spacy<3.8.0,>=3.7.0->es-core-news-sm==3.7.0) (1.0.5)\n",
            "Requirement already satisfied: murmurhash<1.1.0,>=0.28.0 in /usr/local/lib/python3.10/dist-packages (from spacy<3.8.0,>=3.7.0->es-core-news-sm==3.7.0) (1.0.10)\n",
            "Requirement already satisfied: cymem<2.1.0,>=2.0.2 in /usr/local/lib/python3.10/dist-packages (from spacy<3.8.0,>=3.7.0->es-core-news-sm==3.7.0) (2.0.8)\n",
            "Requirement already satisfied: preshed<3.1.0,>=3.0.2 in /usr/local/lib/python3.10/dist-packages (from spacy<3.8.0,>=3.7.0->es-core-news-sm==3.7.0) (3.0.9)\n",
            "Requirement already satisfied: thinc<8.3.0,>=8.2.2 in /usr/local/lib/python3.10/dist-packages (from spacy<3.8.0,>=3.7.0->es-core-news-sm==3.7.0) (8.2.3)\n",
            "Requirement already satisfied: wasabi<1.2.0,>=0.9.1 in /usr/local/lib/python3.10/dist-packages (from spacy<3.8.0,>=3.7.0->es-core-news-sm==3.7.0) (1.1.2)\n",
            "Requirement already satisfied: srsly<3.0.0,>=2.4.3 in /usr/local/lib/python3.10/dist-packages (from spacy<3.8.0,>=3.7.0->es-core-news-sm==3.7.0) (2.4.8)\n",
            "Requirement already satisfied: catalogue<2.1.0,>=2.0.6 in /usr/local/lib/python3.10/dist-packages (from spacy<3.8.0,>=3.7.0->es-core-news-sm==3.7.0) (2.0.10)\n",
            "Requirement already satisfied: weasel<0.4.0,>=0.1.0 in /usr/local/lib/python3.10/dist-packages (from spacy<3.8.0,>=3.7.0->es-core-news-sm==3.7.0) (0.3.4)\n",
            "Requirement already satisfied: typer<0.10.0,>=0.3.0 in /usr/local/lib/python3.10/dist-packages (from spacy<3.8.0,>=3.7.0->es-core-news-sm==3.7.0) (0.9.4)\n",
            "Requirement already satisfied: smart-open<7.0.0,>=5.2.1 in /usr/local/lib/python3.10/dist-packages (from spacy<3.8.0,>=3.7.0->es-core-news-sm==3.7.0) (6.4.0)\n",
            "Requirement already satisfied: tqdm<5.0.0,>=4.38.0 in /usr/local/lib/python3.10/dist-packages (from spacy<3.8.0,>=3.7.0->es-core-news-sm==3.7.0) (4.66.2)\n",
            "Requirement already satisfied: requests<3.0.0,>=2.13.0 in /usr/local/lib/python3.10/dist-packages (from spacy<3.8.0,>=3.7.0->es-core-news-sm==3.7.0) (2.31.0)\n",
            "Requirement already satisfied: pydantic!=1.8,!=1.8.1,<3.0.0,>=1.7.4 in /usr/local/lib/python3.10/dist-packages (from spacy<3.8.0,>=3.7.0->es-core-news-sm==3.7.0) (2.7.1)\n",
            "Requirement already satisfied: jinja2 in /usr/local/lib/python3.10/dist-packages (from spacy<3.8.0,>=3.7.0->es-core-news-sm==3.7.0) (3.1.3)\n",
            "Requirement already satisfied: setuptools in /usr/local/lib/python3.10/dist-packages (from spacy<3.8.0,>=3.7.0->es-core-news-sm==3.7.0) (67.7.2)\n",
            "Requirement already satisfied: packaging>=20.0 in /usr/local/lib/python3.10/dist-packages (from spacy<3.8.0,>=3.7.0->es-core-news-sm==3.7.0) (24.0)\n",
            "Requirement already satisfied: langcodes<4.0.0,>=3.2.0 in /usr/local/lib/python3.10/dist-packages (from spacy<3.8.0,>=3.7.0->es-core-news-sm==3.7.0) (3.4.0)\n",
            "Requirement already satisfied: numpy>=1.19.0 in /usr/local/lib/python3.10/dist-packages (from spacy<3.8.0,>=3.7.0->es-core-news-sm==3.7.0) (1.25.2)\n",
            "Requirement already satisfied: language-data>=1.2 in /usr/local/lib/python3.10/dist-packages (from langcodes<4.0.0,>=3.2.0->spacy<3.8.0,>=3.7.0->es-core-news-sm==3.7.0) (1.2.0)\n",
            "Requirement already satisfied: annotated-types>=0.4.0 in /usr/local/lib/python3.10/dist-packages (from pydantic!=1.8,!=1.8.1,<3.0.0,>=1.7.4->spacy<3.8.0,>=3.7.0->es-core-news-sm==3.7.0) (0.6.0)\n",
            "Requirement already satisfied: pydantic-core==2.18.2 in /usr/local/lib/python3.10/dist-packages (from pydantic!=1.8,!=1.8.1,<3.0.0,>=1.7.4->spacy<3.8.0,>=3.7.0->es-core-news-sm==3.7.0) (2.18.2)\n",
            "Requirement already satisfied: typing-extensions>=4.6.1 in /usr/local/lib/python3.10/dist-packages (from pydantic!=1.8,!=1.8.1,<3.0.0,>=1.7.4->spacy<3.8.0,>=3.7.0->es-core-news-sm==3.7.0) (4.11.0)\n",
            "Requirement already satisfied: charset-normalizer<4,>=2 in /usr/local/lib/python3.10/dist-packages (from requests<3.0.0,>=2.13.0->spacy<3.8.0,>=3.7.0->es-core-news-sm==3.7.0) (3.3.2)\n",
            "Requirement already satisfied: idna<4,>=2.5 in /usr/local/lib/python3.10/dist-packages (from requests<3.0.0,>=2.13.0->spacy<3.8.0,>=3.7.0->es-core-news-sm==3.7.0) (3.7)\n",
            "Requirement already satisfied: urllib3<3,>=1.21.1 in /usr/local/lib/python3.10/dist-packages (from requests<3.0.0,>=2.13.0->spacy<3.8.0,>=3.7.0->es-core-news-sm==3.7.0) (2.0.7)\n",
            "Requirement already satisfied: certifi>=2017.4.17 in /usr/local/lib/python3.10/dist-packages (from requests<3.0.0,>=2.13.0->spacy<3.8.0,>=3.7.0->es-core-news-sm==3.7.0) (2024.2.2)\n",
            "Requirement already satisfied: blis<0.8.0,>=0.7.8 in /usr/local/lib/python3.10/dist-packages (from thinc<8.3.0,>=8.2.2->spacy<3.8.0,>=3.7.0->es-core-news-sm==3.7.0) (0.7.11)\n",
            "Requirement already satisfied: confection<1.0.0,>=0.0.1 in /usr/local/lib/python3.10/dist-packages (from thinc<8.3.0,>=8.2.2->spacy<3.8.0,>=3.7.0->es-core-news-sm==3.7.0) (0.1.4)\n",
            "Requirement already satisfied: click<9.0.0,>=7.1.1 in /usr/local/lib/python3.10/dist-packages (from typer<0.10.0,>=0.3.0->spacy<3.8.0,>=3.7.0->es-core-news-sm==3.7.0) (8.1.7)\n",
            "Requirement already satisfied: cloudpathlib<0.17.0,>=0.7.0 in /usr/local/lib/python3.10/dist-packages (from weasel<0.4.0,>=0.1.0->spacy<3.8.0,>=3.7.0->es-core-news-sm==3.7.0) (0.16.0)\n",
            "Requirement already satisfied: MarkupSafe>=2.0 in /usr/local/lib/python3.10/dist-packages (from jinja2->spacy<3.8.0,>=3.7.0->es-core-news-sm==3.7.0) (2.1.5)\n",
            "Requirement already satisfied: marisa-trie>=0.7.7 in /usr/local/lib/python3.10/dist-packages (from language-data>=1.2->langcodes<4.0.0,>=3.2.0->spacy<3.8.0,>=3.7.0->es-core-news-sm==3.7.0) (1.1.0)\n",
            "\u001b[38;5;2m✔ Download and installation successful\u001b[0m\n",
            "You can now load the package via spacy.load('es_core_news_sm')\n",
            "\u001b[38;5;3m⚠ Restart to reload dependencies\u001b[0m\n",
            "If you are in a Jupyter or Colab notebook, you may need to restart Python in\n",
            "order to load all the package's dependencies. You can do this by selecting the\n",
            "'Restart kernel' or 'Restart runtime' option.\n"
          ]
        }
      ]
    },
    {
      "cell_type": "code",
      "source": [
        "from bs4 import BeautifulSoup\n",
        "import pandas as pd\n",
        "import numpy as np\n",
        "import PyPDF2\n",
        "import unicodedata\n",
        "import nltk\n",
        "import es_core_news_sm\n",
        "import re\n",
        "from nltk.tokenize import word_tokenize, sent_tokenize\n",
        "from nltk.corpus import stopwords\n",
        "from sklearn.feature_extraction.text import CountVectorizer\n",
        "from sklearn.feature_extraction.text import TfidfVectorizer\n"
      ],
      "metadata": {
        "id": "vyTXUG5HmL76"
      },
      "execution_count": 863,
      "outputs": []
    },
    {
      "cell_type": "code",
      "execution_count": 864,
      "metadata": {
        "id": "NfEUUXcGlmqW",
        "colab": {
          "base_uri": "https://localhost:8080/"
        },
        "outputId": "d0a170f6-014c-42d3-f458-e008f9186e1c"
      },
      "outputs": [
        {
          "output_type": "stream",
          "name": "stdout",
          "text": [
            "\n",
            "\n",
            "\n",
            "\n",
            "\n",
            "Definiciones y conceptos\n",
            "\n",
            "El tablero presenta un conjunto de indicadores que buscan reflejar el aporte del \n",
            "                                turismo a los Objetivos de Desarrollo Sostenible (ODS) para nuestro país. El Documento de Trabajo \n",
            "                                N°12: El turismo en los Objetivos de Desarrollo Sostenible aborda esta propuesta y describe en detalle las fuentas utilizadas y los indicadores elaborados\n",
            "Fuentes de información\n",
            "\n",
            "\n",
            "                          Los indicadores que reflejan el aporte del turismo a la economía en su conjunto en términos de actividad \n",
            "                                económica y empleo, y la tasa de informalidad de éste, provienen de la \n",
            "                          Cuenta Satélite de Turismo de Argentina (CST-A)\n",
            "                          . El resto de los indicadores, que buscan medir el acceso al turismo y su nivel de desigualdad,\n",
            "                                toman como fuente de los datos a la \n",
            "                          Encuesta de Viajes y Turismo de los Hogares (EVyTH)\n",
            "                          , representativa de los grandes aglomerados del país.\n",
            "                        \n",
            "Indicadores\n",
            "\n",
            "\n",
            "\n",
            "\n",
            " • Puestos de trabajo en industrias turísticas\n",
            "                              : Surge de la suma de los puestos de trabajo existentes en\n",
            "                                               los establecimientos pertenecientes a las ramas de actividad clasificadas como características del turismo. \n",
            "                                               Incluye puestos de trabajo asalariados (registrados y no registrados) y no asalariados.\n",
            "                            \n",
            "\n",
            " • Tasa de informalidad en el empleo asalariado turístico\n",
            "                              : Proporción de puestos de trabajo asalariados no registrados\n",
            "                                               con respecto al total de puestos de trabajo asalariados, en porcentaje, para ramas características del turismo.\n",
            "                            \n",
            "\n",
            " • PIB turístico respecto del PIB total\n",
            "                              : la parte del PIB de la economía total atribuible directamente\n",
            "                                        al consumo turístico realizado dentro de la Argentina, ya sea por visitantes residentes o no residentes, como porcentaje del PIB total.\n",
            "                            \n",
            "\n",
            " • Propensión a viajar \n",
            "                              : Proporción de la población que realizó al menos un viaje con pernocte durante el año de referencia.\n",
            "                            \n",
            "\n",
            " • Índice de Gini de viajes turísticos \n",
            "                              : Medida de desigualdad habitual, aplicada a la cantidad total de viajes turísticos \n",
            "                                               realizados según quintil de ingresos de los hogares. Valores más cercanos a 0 implican mayor igualdad, mientras que valores más próximos a 100 reflejan una mayor desigualdad en la distribución de los viajes turísticos según ingresos de la población.\n",
            "                            \n",
            "\n",
            " • Índice de Gini de viajes turísticos de ocio \n",
            "                              : El indicador, en este caso, tiene en cuenta únicamente los viajes con motivo de 'esparcimiento, ocio y recreación',\n",
            "                                               excluyéndose aquellos relacionados con la visita a familiares y amigos; trabajo, negocios, motivos profesionales; y otros.\n",
            "                            \n",
            "\n",
            " • Índice de Gini del gasto turístico \n",
            "                              : Medida de desigualdad aplicada al gasto que los hogares tuvieron en el viaje, según quintil \n",
            "                                               de ingresos de los hogares.\n",
            "                            \n",
            "\n",
            "\n",
            "\n",
            "\n",
            "\n"
          ]
        }
      ],
      "source": [
        "with open('/content/tableros.yvera.tur.ar_tablero_ODS_.html', 'r') as archivo:\n",
        "    # Lee todo el contenido del archivo\n",
        "    contenido_html = archivo.read()\n",
        "\n",
        "# Crea un objeto BeautifulSoup\n",
        "soup = BeautifulSoup(contenido_html, 'lxml')\n",
        "\n",
        "# Usa el método .text para obtener solo el texto, sin las etiquetas HTML\n",
        "texto_plano = soup.find('div', {'title' : \"Metodología\"}).text\n",
        "\n",
        "# Imprime el texto plano\n",
        "print(texto_plano)"
      ]
    },
    {
      "cell_type": "code",
      "source": [
        "# Abre el archivo en modo binario de lectura ('rb')\n",
        "with open('/content/PROYECTO DE LEY TURISMO SOCIAL 2004.pdf', 'rb') as archivo:\n",
        "    # Crea un objeto PdfFileReader\n",
        "    lector = PyPDF2.PdfReader(archivo)\n",
        "\n",
        "    # Inicializa una cadena vacía para almacenar el texto\n",
        "    texto = ''\n",
        "\n",
        "    # Itera sobre todas las páginas del PDF\n",
        "    for i in range(len(lector.pages)):\n",
        "        # Obtiene la página\n",
        "        pagina = lector.pages[i]\n",
        "\n",
        "        # Extrae el texto de la página y lo añade a la cadena de texto\n",
        "        texto += pagina.extract_text()\n",
        "\n",
        "# Imprime el texto extraído\n",
        "print(texto)"
      ],
      "metadata": {
        "id": "05FT8YSxmeOa",
        "colab": {
          "base_uri": "https://localhost:8080/"
        },
        "outputId": "39a6c36b-3740-4ef8-e7d9-2646e0b91c43"
      },
      "execution_count": 865,
      "outputs": [
        {
          "output_type": "stream",
          "name": "stdout",
          "text": [
            "Ley Nacional de Turismo Social \n",
            "Título 1 \n",
            "Turismo Social \n",
            "Capitulo 1 \n",
            "Disposiciones generales \n",
            "ARTICULO l.- Turismo social. El estado garantizará a los habitantes de \n",
            "recursos económicos limitados, el derecho al descanso y al tiempo libre, \n",
            "permitiéndoles acceder a las distintas zonas turísticas, afianzando el \n",
            "sentimiento de pertenencia. \n",
            "El turismo social comprende todos aquellos instrumentos y medios que \n",
            "otorguen facilidades para que personas de recursos económicos limitados, o \n",
            "con capacidades dl$zrentes, accedan a viajes turísticos con fines recreativos en \n",
            "condiciones adecuadas de economía, seguridad y comodidad. \n",
            "ARTICULO 2: Finalidad. La presente ley tiene por finalidad \n",
            "4 Elaborar un plan estratégico nacional de turismo social “PENTS” \n",
            "b) Promover el desarrollo y mejoramiento del turismo social; \n",
            "c) Fomentar el ejercicio del turismo social, conservando y preservando el \n",
            "patrimonio natural, histórico y cultural de nuestro país. Elaborando en cada \n",
            "caso los estudios de impacto ambiental necesarios. \n",
            "4 Garantizar a las personas con capacidades diferentes el acceso para su \n",
            "conocimiento y disfrute de las bellezas naturales del pais. \n",
            "el Mantener y mejorar la oferta de turismo social \n",
            "f, Desarrollar programas de investigación junto con unidades academicas \n",
            "nacionales que respondan a los objetivos del PENTS. ARTICULO 3.- La Autoridad de Aplicación podrá suscribir acuerdos con \n",
            "prestadores de servicios turísticos, organizaciones sociales y empresas \n",
            "privadas a fin de analizar, evaluar y determinar precios y condiciones \n",
            "especiales y favorables , que posibiliten el cumplimiento de los objetivos del \n",
            "presente Título, en beneficio de los sectores sociales de recursos económicos \n",
            "limitados y personas con capacidades distintas . \n",
            "ARTICULO 4: El Consejo Federal de Turismo junto con la Autoridad de \n",
            "Aplicación elaborarán un Plan Estratégico Nacional de Turismo Social, que \n",
            "contará con la colaboración y asesoramiento de los representantes técnicos \n",
            "que cada provincia enviara y de las Unidades Académicas Turísticas del Pais. \n",
            "ARTICULO 5: El Plan Estratégico Nacional de Turismo social , contendrá \n",
            "las estrategias de promoción y ejecución, en la creación de colonias de \n",
            "vacaciones , balnearios , campos deportivos y de recreación , y demás \n",
            "establecimientos destinados al turismo económico; y la organización de \n",
            "excursiones económicas. \n",
            "ARTICULO 6: La Oferta relacionada al turismo social se mantendrá y \n",
            "mejorara a travks de unidades propias. \n",
            "ARTICULO 7: La Autoridad de Aplicación junto a las Unidades Académicas \n",
            "Turísticas del País, elaboraran un sistema de pasantías, destinados a \n",
            "estudiantes universitarios y terciarios de las distintas disciplinas turísticas, \n",
            "para desempeñarse en la administración, y funcionamiento de las distintas \n",
            "unidades turísticas. ARTICULO 8: Son beneficiarios prioritarios los nifios en edad escolar, los \n",
            "jóvenes, los ancianos , las personas con capacidades diferentes y las familias \n",
            "carenciadas. \n",
            "ARTICULO 9: Las entidades que desarrollen y presten actividades de \n",
            "turismo y recreación, deberán incorporar en sus planes de servicios , un \n",
            "tratamiento preferencial para personas de la tercera edad y con capacidades \n",
            "distintas. \n",
            "ARTICULO 10: Estímulos. La autoridad de aplicación estimula las \n",
            "inversiones que tiendan a incrementar las instalaciones destinadas al turismo \n",
            "social, así como la formación de sociedades cooperativas y todo tipo de \n",
            "asociaciones que auspicien esta forma de turismo. \n",
            "Capitulo Il \n",
            "Régimen de Subsidios \n",
            "ARTICULO ll: Modalidades \n",
            "Subsidios Plenos: a) la Autoridad de Aplicación brindará gratuitamente , el \n",
            "servicio de alojamiento, comida y recreación a, escuelas públicas, asilos \n",
            "publico de ancianos e instituciones publicas de protección y ayuda a personas \n",
            "con capacidades especiales, mediante la celebración y ejecución de \n",
            "convenios que firmara con las Provincias, o Municipios, quienes se \n",
            "obligarán a efectuar la prestación del servicio de transporte. \n",
            "b) la Autoridad de Aplicación brindará gratuitamente , el \n",
            "servicio de alojamiento, comida, recreación y transporte a las personas con \n",
            "capacidades diferentes. Subsidios parciales : a) las familias con mas de 2 hijos, solo deberán \n",
            "abonar el importe correspondiente a los padres y a un hijo, prestándose el \n",
            "servicio turístico a la totalidad del grupo familiar. \n",
            "ARTICULO 12:- PRESUPUESTO: Conformación del Presupuesto Especial \n",
            "a) Asignación del Presupuesto de la autoridad de Aplicación \n",
            "b) el 25% del producto del impuesto producido del cinco por ciento (5%) del \n",
            "precio de los pasajes aéreos y fluviales al exterior, vendidos o emitidos en el \n",
            "país y los vendidos o emitidos en el exterior para residentes argentinos en \n",
            "viajes que se inicien en el territorio nacional; \n",
            "c) el aporte que realicen las provincias \n",
            "d) el aporte del Ministerio de Desarrollo Social. \n",
            "e) el aporte de los distintos Organismos Nacionales o extranjeros. \n",
            "t) cualquier ingreso que se genere por leyes o fondos especiales \n",
            "Título ll \n",
            "Infracciones y Sanciones \n",
            "ARTíCULO 13.- Infracciones. En el ejercicio de sus funciones de contralor, \n",
            "la Autoridad de Aplicación puede imponer sanciones por infracción ylo \n",
            "inobservancia a la presente Ley y a los reglamentos que en consecuencia se \n",
            "dicten. \n",
            "ARTÍCULO 14.- Sanciones. La aplicación de las sanciones previstas en el \n",
            "artículo precedente no obsta la suspensión, revocación o caducidad de las \n",
            "autorizaciones administrativas otorgadas. ARTíWLO 15.- Procedimiento. Las sanciones se aplican mediante el \n",
            "procedimiento que se establezca en la reglamentación de la presente Ley, sin \n",
            "perjuicio de la aplicación supletoria y en cuanto fuera compatible de las \n",
            "disposiciones de la I,ey Nacional de Procedimiento Administrativos N” \n",
            "19.549. \n",
            "Titulo III \n",
            "Disposiciones Complementarias \n",
            "ARTICULO 16.- Autoridad de Aplicación. La SECRETARIA DE \n",
            "TURISMO de la PRESIDENCIA DE LA NACIÓN o el organismo que en el \n",
            "futuro la reemplace, es la Autoridad de Aplicación de la presente norma, así \n",
            "como de sus disposiciones reglamentarias y complementarias. \n",
            "ARTICULO 17.- Reglamentación. La presente ley debe ser reglamentada \n",
            "dentro de los ciento ochenta (180) días de su promulgación, \n",
            "ARTÍCULO 18.- De forma. \n"
          ]
        }
      ]
    },
    {
      "cell_type": "code",
      "source": [
        "def convertir_a_minusculas(texto):\n",
        "  tokens = word_tokenize(texto)\n",
        "  tokens = [token.lower() for token in tokens]  # Convertir a minúsculas\n",
        "  return ' '.join(tokens)"
      ],
      "metadata": {
        "id": "wdSa0TZ4vbqZ"
      },
      "execution_count": 866,
      "outputs": []
    },
    {
      "cell_type": "code",
      "source": [
        "# Función de eliminación de acentos\n",
        "def remueve_acentos(texto):\n",
        "    nfkd_form = unicodedata.normalize('NFKD', texto)\n",
        "    return''.join([letra for letra in nfkd_form if not unicodedata.combining(letra)])"
      ],
      "metadata": {
        "id": "ZKwRvciQmvFD"
      },
      "execution_count": 867,
      "outputs": []
    },
    {
      "cell_type": "code",
      "source": [
        "def remueve_signos_puntuacion(texto):\n",
        "    texto = re.sub(r'[^\\w\\s]','',texto)\n",
        "    return texto"
      ],
      "metadata": {
        "id": "3AomuY6gWceg"
      },
      "execution_count": 868,
      "outputs": []
    },
    {
      "cell_type": "code",
      "source": [
        "# Funcion para eliminar las palabras de parada\n",
        "def remueve_palabras(texto):\n",
        "  palabra_tokens = word_tokenize(texto)\n",
        "  texto_filtrado = [palabra for palabra in palabra_tokens \\\n",
        "                    if palabra.casefold() not in palabra_parada]\n",
        "  return ' '.join(texto_filtrado)"
      ],
      "metadata": {
        "id": "BRpjFmH4ms0T"
      },
      "execution_count": 869,
      "outputs": []
    },
    {
      "cell_type": "code",
      "source": [
        "# Descargar el conjunto de palabras de parada en español\n",
        "nltk.download('stopwords')\n",
        "nltk.download('punkt')"
      ],
      "metadata": {
        "id": "gnvSs2SPp-rc",
        "colab": {
          "base_uri": "https://localhost:8080/"
        },
        "outputId": "3c102453-e056-476b-ddc7-0049f7fb1192"
      },
      "execution_count": 870,
      "outputs": [
        {
          "output_type": "stream",
          "name": "stderr",
          "text": [
            "[nltk_data] Downloading package stopwords to /root/nltk_data...\n",
            "[nltk_data]   Package stopwords is already up-to-date!\n",
            "[nltk_data] Downloading package punkt to /root/nltk_data...\n",
            "[nltk_data]   Package punkt is already up-to-date!\n"
          ]
        },
        {
          "output_type": "execute_result",
          "data": {
            "text/plain": [
              "True"
            ]
          },
          "metadata": {},
          "execution_count": 870
        }
      ]
    },
    {
      "cell_type": "code",
      "source": [
        "# Elegir las palabras de parada para idioma español\n",
        "palabra_parada = set(stopwords.words('spanish'))"
      ],
      "metadata": {
        "id": "3q3Y0J0BqGGU"
      },
      "execution_count": 871,
      "outputs": []
    },
    {
      "cell_type": "code",
      "source": [
        "# Creamos el objeto\n",
        "nlp = es_core_news_sm.load()"
      ],
      "metadata": {
        "id": "gHn8J9j-qSOi"
      },
      "execution_count": 872,
      "outputs": []
    },
    {
      "cell_type": "code",
      "source": [
        "texto_plano = remueve_palabras(texto_plano)"
      ],
      "metadata": {
        "id": "aJ-rrPA9_vET"
      },
      "execution_count": 873,
      "outputs": []
    },
    {
      "cell_type": "code",
      "source": [
        "texto_plano = convertir_a_minusculas(texto_plano)"
      ],
      "metadata": {
        "id": "tjBv2gjrv9Ue"
      },
      "execution_count": 874,
      "outputs": []
    },
    {
      "cell_type": "code",
      "source": [
        "texto_plano = remueve_acentos(texto_plano)"
      ],
      "metadata": {
        "id": "gAJVLRTzqUKb"
      },
      "execution_count": 875,
      "outputs": []
    },
    {
      "cell_type": "code",
      "source": [
        "texto_plano = texto_plano.split(\".\")\n",
        "texto_plano"
      ],
      "metadata": {
        "id": "KWkexDiJ--qb",
        "colab": {
          "base_uri": "https://localhost:8080/"
        },
        "outputId": "647bfae1-3d05-4df9-b265-ab18ebcf0ee2"
      },
      "execution_count": 876,
      "outputs": [
        {
          "output_type": "execute_result",
          "data": {
            "text/plain": [
              "['definiciones conceptos tablero presenta conjunto indicadores buscan reflejar aporte turismo objetivos desarrollo sostenible ( ods ) pais ',\n",
              " ' documento trabajo n°12 : turismo objetivos desarrollo sostenible aborda propuesta describe detalle fuentas utilizadas indicadores elaborados fuentes informacion indicadores reflejan aporte turismo economia conjunto terminos actividad economica empleo , tasa informalidad este , provienen cuenta satelite turismo argentina ( cst-a ) ',\n",
              " ' resto indicadores , buscan medir acceso turismo nivel desigualdad , toman fuente datos encuesta viajes turismo hogares ( evyth ) , representativa grandes aglomerados pais ',\n",
              " ' indicadores • puestos trabajo industrias turisticas : surge suma puestos trabajo existentes establecimientos pertenecientes ramas actividad clasificadas caracteristicas turismo ',\n",
              " ' incluye puestos trabajo asalariados ( registrados registrados ) asalariados ',\n",
              " ' • tasa informalidad empleo asalariado turistico : proporcion puestos trabajo asalariados registrados respecto total puestos trabajo asalariados , porcentaje , ramas caracteristicas turismo ',\n",
              " ' • pib turistico respecto pib total : parte pib economia total atribuible directamente consumo turistico realizado dentro argentina , visitantes residentes residentes , porcentaje pib total ',\n",
              " ' • propension viajar : proporcion poblacion realizo menos viaje pernocte ano referencia ',\n",
              " ' • indice gini viajes turisticos : medida desigualdad habitual , aplicada cantidad total viajes turisticos realizados segun quintil ingresos hogares ',\n",
              " ' valores cercanos 0 implican mayor igualdad , mientras valores proximos 100 reflejan mayor desigualdad distribucion viajes turisticos segun ingresos poblacion ',\n",
              " \" • indice gini viajes turisticos ocio : indicador , caso , cuenta unicamente viajes motivo 'esparcimiento , ocio recreacion ' , excluyendose aquellos relacionados visita familiares amigos ; trabajo , negocios , motivos profesionales ; \",\n",
              " ' • indice gini gasto turistico : medida desigualdad aplicada gasto hogares viaje , segun quintil ingresos hogares ',\n",
              " '']"
            ]
          },
          "metadata": {},
          "execution_count": 876
        }
      ]
    },
    {
      "cell_type": "code",
      "source": [
        "# Creamos una instancia de CountVectorizer\n",
        "vectorizer1 = CountVectorizer()"
      ],
      "metadata": {
        "id": "bZ7cQN8XfHMA"
      },
      "execution_count": 877,
      "outputs": []
    },
    {
      "cell_type": "code",
      "source": [
        "# Ajustamos el vectorizador a nuestro corpus y transformamos nuestro corpus en vectores de conteo\n",
        "X1 = vectorizer1.fit_transform(texto_plano)\n",
        "\n",
        "# Imprimimos los vectores de características\n",
        "print(\"Vectores de características:\\n\", X1.toarray())\n",
        "\n",
        "# Imprimimos las palabras del vocabulario\n",
        "print(\"\\nPalabras del vocabulario:\", \"\\n\",\n",
        "      vectorizer1.get_feature_names_out())\n",
        "\n",
        "# Convertimos la matriz en un DataFrame de pandas para una mejor visualización\n",
        "df1 = pd.DataFrame(X1.toarray(), columns=vectorizer1.get_feature_names_out())\n",
        "\n",
        "# Imprimimos el DataFrame\n",
        "print('\\nVectores con palabras como columnas:')\n",
        "print(df1)\n"
      ],
      "metadata": {
        "id": "Pn1D0Dejw_H1",
        "colab": {
          "base_uri": "https://localhost:8080/"
        },
        "outputId": "de4db484-03a6-4d6c-c3d3-a21dc5a2b486"
      },
      "execution_count": 878,
      "outputs": [
        {
          "output_type": "stream",
          "name": "stdout",
          "text": [
            "Vectores de características:\n",
            " [[0 0 0 ... 0 0 0]\n",
            " [0 1 1 ... 0 0 0]\n",
            " [0 0 0 ... 1 0 0]\n",
            " ...\n",
            " [0 0 0 ... 2 1 0]\n",
            " [0 0 0 ... 0 0 0]\n",
            " [0 0 0 ... 0 0 0]]\n",
            "\n",
            "Palabras del vocabulario: \n",
            " ['100' '12' 'aborda' 'acceso' 'actividad' 'aglomerados' 'amigos' 'ano'\n",
            " 'aplicada' 'aporte' 'aquellos' 'argentina' 'asalariado' 'asalariados'\n",
            " 'atribuible' 'buscan' 'cantidad' 'caracteristicas' 'caso' 'cercanos'\n",
            " 'clasificadas' 'conceptos' 'conjunto' 'consumo' 'cst' 'cuenta' 'datos'\n",
            " 'definiciones' 'dentro' 'desarrollo' 'describe' 'desigualdad' 'detalle'\n",
            " 'directamente' 'distribucion' 'documento' 'economia' 'economica'\n",
            " 'elaborados' 'empleo' 'encuesta' 'esparcimiento' 'establecimientos'\n",
            " 'este' 'evyth' 'excluyendose' 'existentes' 'familiares' 'fuentas'\n",
            " 'fuente' 'fuentes' 'gasto' 'gini' 'grandes' 'habitual' 'hogares'\n",
            " 'igualdad' 'implican' 'incluye' 'indicador' 'indicadores' 'indice'\n",
            " 'industrias' 'informacion' 'informalidad' 'ingresos' 'mayor' 'medida'\n",
            " 'medir' 'menos' 'mientras' 'motivo' 'motivos' 'negocios' 'nivel'\n",
            " 'objetivos' 'ocio' 'ods' 'pais' 'parte' 'pernocte' 'pertenecientes' 'pib'\n",
            " 'poblacion' 'porcentaje' 'presenta' 'profesionales' 'propension'\n",
            " 'proporcion' 'propuesta' 'provienen' 'proximos' 'puestos' 'quintil'\n",
            " 'ramas' 'realizado' 'realizados' 'realizo' 'recreacion' 'referencia'\n",
            " 'reflejan' 'reflejar' 'registrados' 'relacionados' 'representativa'\n",
            " 'residentes' 'respecto' 'resto' 'satelite' 'segun' 'sostenible' 'suma'\n",
            " 'surge' 'tablero' 'tasa' 'terminos' 'toman' 'total' 'trabajo' 'turismo'\n",
            " 'turisticas' 'turistico' 'turisticos' 'unicamente' 'utilizadas' 'valores'\n",
            " 'viajar' 'viaje' 'viajes' 'visita' 'visitantes']\n",
            "\n",
            "Vectores con palabras como columnas:\n",
            "    100  12  aborda  acceso  actividad  aglomerados  amigos  ano  aplicada  \\\n",
            "0     0   0       0       0          0            0       0    0         0   \n",
            "1     0   1       1       0          1            0       0    0         0   \n",
            "2     0   0       0       1          0            1       0    0         0   \n",
            "3     0   0       0       0          1            0       0    0         0   \n",
            "4     0   0       0       0          0            0       0    0         0   \n",
            "5     0   0       0       0          0            0       0    0         0   \n",
            "6     0   0       0       0          0            0       0    0         0   \n",
            "7     0   0       0       0          0            0       0    1         0   \n",
            "8     0   0       0       0          0            0       0    0         1   \n",
            "9     1   0       0       0          0            0       0    0         0   \n",
            "10    0   0       0       0          0            0       1    0         0   \n",
            "11    0   0       0       0          0            0       0    0         1   \n",
            "12    0   0       0       0          0            0       0    0         0   \n",
            "\n",
            "    aporte  ...  turistico  turisticos  unicamente  utilizadas  valores  \\\n",
            "0        1  ...          0           0           0           0        0   \n",
            "1        1  ...          0           0           0           1        0   \n",
            "2        0  ...          0           0           0           0        0   \n",
            "3        0  ...          0           0           0           0        0   \n",
            "4        0  ...          0           0           0           0        0   \n",
            "5        0  ...          1           0           0           0        0   \n",
            "6        0  ...          2           0           0           0        0   \n",
            "7        0  ...          0           0           0           0        0   \n",
            "8        0  ...          0           2           0           0        0   \n",
            "9        0  ...          0           1           0           0        2   \n",
            "10       0  ...          0           1           1           0        0   \n",
            "11       0  ...          1           0           0           0        0   \n",
            "12       0  ...          0           0           0           0        0   \n",
            "\n",
            "    viajar  viaje  viajes  visita  visitantes  \n",
            "0        0      0       0       0           0  \n",
            "1        0      0       0       0           0  \n",
            "2        0      0       1       0           0  \n",
            "3        0      0       0       0           0  \n",
            "4        0      0       0       0           0  \n",
            "5        0      0       0       0           0  \n",
            "6        0      0       0       0           1  \n",
            "7        1      1       0       0           0  \n",
            "8        0      0       2       0           0  \n",
            "9        0      0       1       0           0  \n",
            "10       0      0       2       1           0  \n",
            "11       0      1       0       0           0  \n",
            "12       0      0       0       0           0  \n",
            "\n",
            "[13 rows x 131 columns]\n"
          ]
        }
      ]
    },
    {
      "cell_type": "code",
      "source": [
        "texto = convertir_a_minusculas(texto)"
      ],
      "metadata": {
        "id": "IQ8NQDhux8ql"
      },
      "execution_count": 879,
      "outputs": []
    },
    {
      "cell_type": "code",
      "source": [
        "texto = remueve_acentos(texto)"
      ],
      "metadata": {
        "id": "UVd2RARWyOQs"
      },
      "execution_count": 880,
      "outputs": []
    },
    {
      "cell_type": "code",
      "source": [
        "texto = remueve_palabras(texto)"
      ],
      "metadata": {
        "id": "jG6ZQuWsA13q"
      },
      "execution_count": 881,
      "outputs": []
    },
    {
      "cell_type": "code",
      "source": [
        "texto = texto.split(\".\")"
      ],
      "metadata": {
        "id": "ve3VaO5NyoMo"
      },
      "execution_count": 882,
      "outputs": []
    },
    {
      "cell_type": "code",
      "source": [
        "vectorizer2 = CountVectorizer()"
      ],
      "metadata": {
        "id": "HQxTv2i251vu"
      },
      "execution_count": 883,
      "outputs": []
    },
    {
      "cell_type": "code",
      "source": [
        "X2 = vectorizer2.fit_transform(texto)\n",
        "\n",
        "# Imprimimos los vectores de características\n",
        "print(\"Vectores de características:\\n\", X2.toarray())\n",
        "\n",
        "# Imprimimos las palabras del vocabulario\n",
        "print(\"\\nPalabras del vocabulario:\", \"\\n\",\n",
        "      vectorizer2.get_feature_names_out())\n",
        "\n",
        "# Convertimos la matriz en un DataFrame de pandas para una mejor visualización\n",
        "df2 = pd.DataFrame(X2.toarray(), columns=vectorizer2.get_feature_names_out())\n",
        "\n",
        "# Imprimimos el DataFrame\n",
        "print('\\nVectores con palabras como columnas:')\n",
        "print(df2)\n"
      ],
      "metadata": {
        "id": "zgyxwGXnkIaI",
        "colab": {
          "base_uri": "https://localhost:8080/"
        },
        "outputId": "51d70657-7008-4cb5-bd5d-9351360f6c35"
      },
      "execution_count": 884,
      "outputs": [
        {
          "output_type": "stream",
          "name": "stdout",
          "text": [
            "Vectores de características:\n",
            " [[0 0 0 ... 0 0 0]\n",
            " [0 0 0 ... 0 0 0]\n",
            " [0 0 0 ... 0 1 0]\n",
            " ...\n",
            " [0 0 0 ... 0 0 0]\n",
            " [0 0 0 ... 0 0 0]\n",
            " [0 0 0 ... 0 0 0]]\n",
            "\n",
            "Palabras del vocabulario: \n",
            " ['10' '12' '13' '14' '15' '16' '17' '18' '180' '19' '25' '549' 'abonar'\n",
            " 'academicas' 'accedan' 'acceder' 'acceso' 'actividades' 'acuerdos'\n",
            " 'adecuadas' 'administracion' 'administrativas' 'administrativos' 'aereos'\n",
            " 'afianzando' 'alojamiento' 'ambiental' 'analizar' 'ancianos' 'aplicacion'\n",
            " 'aplican' 'aporte' 'aquellos' 'argentinos' 'articulo' 'artiwlo'\n",
            " 'asesoramiento' 'asi' 'asignacion' 'asilos' 'asociaciones' 'auspicien'\n",
            " 'autoridad' 'autorizaciones' 'ayuda' 'balnearios' 'bellezas'\n",
            " 'beneficiarios' 'beneficio' 'brindara' 'cada' 'caducidad' 'campos'\n",
            " 'capacidades' 'capitulo' 'carenciadas' 'caso' 'celebracion' 'ciento'\n",
            " 'cinco' 'colaboracion' 'colonias' 'comida' 'comodidad' 'compatible'\n",
            " 'complementarias' 'comprende' 'condiciones' 'conformacion' 'conocimiento'\n",
            " 'consecuencia' 'consejo' 'conservando' 'contara' 'contendra' 'contralor'\n",
            " 'convenios' 'cooperativas' 'correspondiente' 'creacion' 'cualquier'\n",
            " 'cuanto' 'cultural' 'cumplimiento' 'debe' 'deberan' 'demas' 'dentro'\n",
            " 'deportivos' 'derecho' 'desarrollar' 'desarrollen' 'desarrollo'\n",
            " 'descanso' 'desempenarse' 'destinadas' 'destinados' 'determinar' 'dias'\n",
            " 'dicten' 'diferentes' 'disciplinas' 'disfrute' 'disposiciones'\n",
            " 'distintas' 'distintos' 'dl' 'economia' 'economicas' 'economico'\n",
            " 'economicos' 'edad' 'efectuar' 'ejecucion' 'ejercicio' 'elaborando'\n",
            " 'elaborar' 'elaboraran' 'emitidos' 'empresas' 'entidades' 'enviara'\n",
            " 'escolar' 'escuelas' 'especial' 'especiales' 'establecimientos'\n",
            " 'establezca' 'estimula' 'estimulos' 'estrategias' 'estrategico'\n",
            " 'estudiantes' 'estudios' 'evaluar' 'excursiones' 'exterior' 'extranjeros'\n",
            " 'ey' 'facilidades' 'familiar' 'familias' 'favorables' 'federal' 'fin'\n",
            " 'finalidad' 'fines' 'firmara' 'fluviales' 'fomentar' 'fondos' 'forma'\n",
            " 'formacion' 'funcionamiento' 'funciones' 'futuro' 'garantizar'\n",
            " 'garantizara' 'generales' 'genere' 'gratuitamente' 'grupo' 'habitantes'\n",
            " 'hijo' 'hijos' 'historico' 'iii' 'il' 'impacto' 'imponer' 'importe'\n",
            " 'impuesto' 'incorporar' 'incrementar' 'infraccion' 'infracciones'\n",
            " 'ingreso' 'inicien' 'inobservancia' 'instalaciones' 'instituciones'\n",
            " 'instrumentos' 'inversiones' 'investigacion' 'jovenes' 'junto' 'ley'\n",
            " 'leyes' 'libre' 'limitados' 'll' 'mantendra' 'mantener' 'mas' 'mediante'\n",
            " 'medios' 'mejoramiento' 'mejorar' 'mejorara' 'ministerio' 'modalidades'\n",
            " 'municipios' 'nacion' 'nacional' 'nacionales' 'natural' 'naturales'\n",
            " 'necesarios' 'nifios' 'norma' 'objetivos' 'obligaran' 'obsta' 'ochenta'\n",
            " 'oferta' 'organismo' 'organismos' 'organizacion' 'organizaciones'\n",
            " 'otorgadas' 'otorguen' 'padres' 'pais' 'parciales' 'pasajes' 'pasantias'\n",
            " 'patrimonio' 'pents' 'perjuicio' 'permitiendoles' 'personas'\n",
            " 'pertenencia' 'plan' 'planes' 'plenos' 'podra' 'posibiliten' 'precedente'\n",
            " 'precio' 'precios' 'preferencial' 'presente' 'preservando' 'presidencia'\n",
            " 'prestacion' 'prestadores' 'prestandose' 'presten' 'presupuesto'\n",
            " 'previstas' 'prioritarios' 'privadas' 'procedimiento' 'producido'\n",
            " 'producto' 'programas' 'promocion' 'promover' 'promulgacion' 'propias'\n",
            " 'proteccion' 'provincia' 'provincias' 'publicas' 'publico' 'puede'\n",
            " 'realicen' 'recreacion' 'recreativos' 'recursos' 'reemplace' 'regimen'\n",
            " 'reglamentacion' 'reglamentada' 'reglamentarias' 'reglamentos'\n",
            " 'relacionada' 'representantes' 'residentes' 'respondan' 'revocacion'\n",
            " 'sanciones' 'secretaria' 'sectores' 'seguridad' 'sentimiento' 'ser'\n",
            " 'servicio' 'servicios' 'sistema' 'social' 'sociales' 'sociedades' 'solo'\n",
            " 'subsidios' 'supletoria' 'suscribir' 'suspension' 'tecnicos' 'tercera'\n",
            " 'terciarios' 'territorio' 'tiempo' 'tiendan' 'tipo' 'titulo' 'totalidad'\n",
            " 'transporte' 'tratamiento' 'travks' 'turismo' 'turisticas' 'turistico'\n",
            " 'turisticos' 'unidades' 'universitarios' 'vacaciones' 'vendidos' 'viajes'\n",
            " 'ylo' 'zonas' 'zrentes']\n",
            "\n",
            "Vectores con palabras como columnas:\n",
            "    10  12  13  14  15  16  17  18  180  19  ...  turistico  turisticos  \\\n",
            "0    0   0   0   0   0   0   0   0    0   0  ...          0           0   \n",
            "1    0   0   0   0   0   0   0   0    0   0  ...          0           0   \n",
            "2    0   0   0   0   0   0   0   0    0   0  ...          0           0   \n",
            "3    0   0   0   0   0   0   0   0    0   0  ...          0           1   \n",
            "4    0   0   0   0   0   0   0   0    0   0  ...          0           0   \n",
            "5    0   0   0   0   0   0   0   0    0   0  ...          0           0   \n",
            "6    0   0   0   0   0   0   0   0    0   0  ...          0           0   \n",
            "7    0   0   0   0   0   0   0   0    0   0  ...          0           0   \n",
            "8    0   0   0   0   0   0   0   0    0   0  ...          0           0   \n",
            "9    0   0   0   0   0   0   0   0    0   0  ...          0           0   \n",
            "10   0   0   0   0   0   0   0   0    0   0  ...          0           1   \n",
            "11   0   0   0   0   0   0   0   0    0   0  ...          0           0   \n",
            "12   0   0   0   0   0   0   0   0    0   0  ...          0           0   \n",
            "13   0   0   0   0   0   0   0   0    0   0  ...          0           0   \n",
            "14   0   0   0   0   0   0   0   0    0   0  ...          0           0   \n",
            "15   0   0   0   0   0   0   0   0    0   0  ...          0           0   \n",
            "16   0   0   0   0   0   0   0   0    0   0  ...          0           0   \n",
            "17   1   0   0   0   0   0   0   0    0   0  ...          0           0   \n",
            "18   0   0   0   0   0   0   0   0    0   0  ...          0           0   \n",
            "19   0   0   0   0   0   0   0   0    0   0  ...          0           0   \n",
            "20   0   0   0   0   0   0   0   0    0   0  ...          0           0   \n",
            "21   0   0   0   0   0   0   0   0    0   0  ...          1           0   \n",
            "22   0   1   0   0   0   0   0   0    0   0  ...          0           0   \n",
            "23   0   0   0   0   0   0   0   0    0   0  ...          0           0   \n",
            "24   0   0   1   0   0   0   0   0    0   0  ...          0           0   \n",
            "25   0   0   0   0   0   0   0   0    0   0  ...          0           0   \n",
            "26   0   0   0   0   0   0   0   0    0   0  ...          0           0   \n",
            "27   0   0   0   1   0   0   0   0    0   0  ...          0           0   \n",
            "28   0   0   0   0   0   0   0   0    0   0  ...          0           0   \n",
            "29   0   0   0   0   0   0   0   0    0   0  ...          0           0   \n",
            "30   0   0   0   0   1   0   0   0    0   0  ...          0           0   \n",
            "31   0   0   0   0   0   0   0   0    0   0  ...          0           0   \n",
            "32   0   0   0   0   0   0   0   0    0   1  ...          0           0   \n",
            "33   0   0   0   0   0   0   0   0    0   0  ...          0           0   \n",
            "34   0   0   0   0   0   1   0   0    0   0  ...          0           0   \n",
            "35   0   0   0   0   0   0   0   0    0   0  ...          0           0   \n",
            "36   0   0   0   0   0   0   0   0    0   0  ...          0           0   \n",
            "37   0   0   0   0   0   0   1   0    0   0  ...          0           0   \n",
            "38   0   0   0   0   0   0   0   0    0   0  ...          0           0   \n",
            "39   0   0   0   0   0   0   0   1    1   0  ...          0           0   \n",
            "40   0   0   0   0   0   0   0   0    0   0  ...          0           0   \n",
            "41   0   0   0   0   0   0   0   0    0   0  ...          0           0   \n",
            "\n",
            "    unidades  universitarios  vacaciones  vendidos  viajes  ylo  zonas  \\\n",
            "0          0               0           0         0       0    0      0   \n",
            "1          0               0           0         0       0    0      0   \n",
            "2          0               0           0         0       0    0      1   \n",
            "3          0               0           0         0       1    0      0   \n",
            "4          0               0           0         0       0    0      0   \n",
            "5          0               0           0         0       0    0      0   \n",
            "6          0               0           0         0       0    0      0   \n",
            "7          0               0           0         0       0    0      0   \n",
            "8          1               0           0         0       0    0      0   \n",
            "9          0               0           0         0       0    0      0   \n",
            "10         0               0           0         0       0    0      0   \n",
            "11         1               0           0         0       0    0      0   \n",
            "12         0               0           1         0       0    0      0   \n",
            "13         1               0           0         0       0    0      0   \n",
            "14         2               1           0         0       0    0      0   \n",
            "15         0               0           0         0       0    0      0   \n",
            "16         0               0           0         0       0    0      0   \n",
            "17         0               0           0         0       0    0      0   \n",
            "18         0               0           0         0       0    0      0   \n",
            "19         0               0           0         0       0    0      0   \n",
            "20         0               0           0         0       0    0      0   \n",
            "21         0               0           0         0       0    0      0   \n",
            "22         0               0           0         2       1    0      0   \n",
            "23         0               0           0         0       0    0      0   \n",
            "24         0               0           0         0       0    0      0   \n",
            "25         0               0           0         0       0    0      0   \n",
            "26         0               0           0         0       0    1      0   \n",
            "27         0               0           0         0       0    0      0   \n",
            "28         0               0           0         0       0    0      0   \n",
            "29         0               0           0         0       0    0      0   \n",
            "30         0               0           0         0       0    0      0   \n",
            "31         0               0           0         0       0    0      0   \n",
            "32         0               0           0         0       0    0      0   \n",
            "33         0               0           0         0       0    0      0   \n",
            "34         0               0           0         0       0    0      0   \n",
            "35         0               0           0         0       0    0      0   \n",
            "36         0               0           0         0       0    0      0   \n",
            "37         0               0           0         0       0    0      0   \n",
            "38         0               0           0         0       0    0      0   \n",
            "39         0               0           0         0       0    0      0   \n",
            "40         0               0           0         0       0    0      0   \n",
            "41         0               0           0         0       0    0      0   \n",
            "\n",
            "    zrentes  \n",
            "0         0  \n",
            "1         0  \n",
            "2         0  \n",
            "3         1  \n",
            "4         0  \n",
            "5         0  \n",
            "6         0  \n",
            "7         0  \n",
            "8         0  \n",
            "9         0  \n",
            "10        0  \n",
            "11        0  \n",
            "12        0  \n",
            "13        0  \n",
            "14        0  \n",
            "15        0  \n",
            "16        0  \n",
            "17        0  \n",
            "18        0  \n",
            "19        0  \n",
            "20        0  \n",
            "21        0  \n",
            "22        0  \n",
            "23        0  \n",
            "24        0  \n",
            "25        0  \n",
            "26        0  \n",
            "27        0  \n",
            "28        0  \n",
            "29        0  \n",
            "30        0  \n",
            "31        0  \n",
            "32        0  \n",
            "33        0  \n",
            "34        0  \n",
            "35        0  \n",
            "36        0  \n",
            "37        0  \n",
            "38        0  \n",
            "39        0  \n",
            "40        0  \n",
            "41        0  \n",
            "\n",
            "[42 rows x 322 columns]\n"
          ]
        }
      ]
    },
    {
      "cell_type": "code",
      "source": [
        "# Inicializamos el TfidfVectorizer\n",
        "vectorizer_tfidf = TfidfVectorizer()"
      ],
      "metadata": {
        "id": "mEOsL31DEvVv"
      },
      "execution_count": 885,
      "outputs": []
    },
    {
      "cell_type": "code",
      "source": [
        "# Ajustamos y transformamos nuestro corpus\n",
        "X_tfidf_1 = vectorizer_tfidf.fit_transform(texto_plano)\n",
        "\n",
        "# Mostramos las características (palabras únicas en el corpus)\n",
        "print(\"Características: \", vectorizer_tfidf.get_feature_names_out())\n",
        "\n",
        "# Mostramos la matriz TF-IDF resultante\n",
        "print(\"\\nMatriz TF-IDF:\")\n",
        "print(X_tfidf_1.toarray())\n",
        "\n",
        "# Resumen\n",
        "print(\"\\nVocabulario:\")\n",
        "print(vectorizer_tfidf.vocabulary_)\n",
        "print(\"\\nIDF:\")\n",
        "print(vectorizer_tfidf.idf_)"
      ],
      "metadata": {
        "id": "7c9EAzYGxZ-k",
        "colab": {
          "base_uri": "https://localhost:8080/"
        },
        "outputId": "15798d82-8104-4a02-8a27-4c141d27bcb9"
      },
      "execution_count": 886,
      "outputs": [
        {
          "output_type": "stream",
          "name": "stdout",
          "text": [
            "Características:  ['100' '12' 'aborda' 'acceso' 'actividad' 'aglomerados' 'amigos' 'ano'\n",
            " 'aplicada' 'aporte' 'aquellos' 'argentina' 'asalariado' 'asalariados'\n",
            " 'atribuible' 'buscan' 'cantidad' 'caracteristicas' 'caso' 'cercanos'\n",
            " 'clasificadas' 'conceptos' 'conjunto' 'consumo' 'cst' 'cuenta' 'datos'\n",
            " 'definiciones' 'dentro' 'desarrollo' 'describe' 'desigualdad' 'detalle'\n",
            " 'directamente' 'distribucion' 'documento' 'economia' 'economica'\n",
            " 'elaborados' 'empleo' 'encuesta' 'esparcimiento' 'establecimientos'\n",
            " 'este' 'evyth' 'excluyendose' 'existentes' 'familiares' 'fuentas'\n",
            " 'fuente' 'fuentes' 'gasto' 'gini' 'grandes' 'habitual' 'hogares'\n",
            " 'igualdad' 'implican' 'incluye' 'indicador' 'indicadores' 'indice'\n",
            " 'industrias' 'informacion' 'informalidad' 'ingresos' 'mayor' 'medida'\n",
            " 'medir' 'menos' 'mientras' 'motivo' 'motivos' 'negocios' 'nivel'\n",
            " 'objetivos' 'ocio' 'ods' 'pais' 'parte' 'pernocte' 'pertenecientes' 'pib'\n",
            " 'poblacion' 'porcentaje' 'presenta' 'profesionales' 'propension'\n",
            " 'proporcion' 'propuesta' 'provienen' 'proximos' 'puestos' 'quintil'\n",
            " 'ramas' 'realizado' 'realizados' 'realizo' 'recreacion' 'referencia'\n",
            " 'reflejan' 'reflejar' 'registrados' 'relacionados' 'representativa'\n",
            " 'residentes' 'respecto' 'resto' 'satelite' 'segun' 'sostenible' 'suma'\n",
            " 'surge' 'tablero' 'tasa' 'terminos' 'toman' 'total' 'trabajo' 'turismo'\n",
            " 'turisticas' 'turistico' 'turisticos' 'unicamente' 'utilizadas' 'valores'\n",
            " 'viajar' 'viaje' 'viajes' 'visita' 'visitantes']\n",
            "\n",
            "Matriz TF-IDF:\n",
            "[[0.         0.         0.         ... 0.         0.         0.        ]\n",
            " [0.         0.17541542 0.17541542 ... 0.         0.         0.        ]\n",
            " [0.         0.         0.         ... 0.16675967 0.         0.        ]\n",
            " ...\n",
            " [0.         0.         0.         ... 0.28250672 0.20502352 0.        ]\n",
            " [0.         0.         0.         ... 0.         0.         0.        ]\n",
            " [0.         0.         0.         ... 0.         0.         0.        ]]\n",
            "\n",
            "Vocabulario:\n",
            "{'definiciones': 27, 'conceptos': 21, 'tablero': 113, 'presenta': 85, 'conjunto': 22, 'indicadores': 60, 'buscan': 15, 'reflejar': 101, 'aporte': 9, 'turismo': 119, 'objetivos': 75, 'desarrollo': 29, 'sostenible': 110, 'ods': 77, 'pais': 78, 'documento': 35, 'trabajo': 118, '12': 1, 'aborda': 2, 'propuesta': 89, 'describe': 30, 'detalle': 32, 'fuentas': 48, 'utilizadas': 124, 'elaborados': 38, 'fuentes': 50, 'informacion': 63, 'reflejan': 100, 'economia': 36, 'terminos': 115, 'actividad': 4, 'economica': 37, 'empleo': 39, 'tasa': 114, 'informalidad': 64, 'este': 43, 'provienen': 90, 'cuenta': 25, 'satelite': 108, 'argentina': 11, 'cst': 24, 'resto': 107, 'medir': 68, 'acceso': 3, 'nivel': 74, 'desigualdad': 31, 'toman': 116, 'fuente': 49, 'datos': 26, 'encuesta': 40, 'viajes': 128, 'hogares': 55, 'evyth': 44, 'representativa': 104, 'grandes': 53, 'aglomerados': 5, 'puestos': 92, 'industrias': 62, 'turisticas': 120, 'surge': 112, 'suma': 111, 'existentes': 46, 'establecimientos': 42, 'pertenecientes': 81, 'ramas': 94, 'clasificadas': 20, 'caracteristicas': 17, 'incluye': 58, 'asalariados': 13, 'registrados': 102, 'asalariado': 12, 'turistico': 121, 'proporcion': 88, 'respecto': 106, 'total': 117, 'porcentaje': 84, 'pib': 82, 'parte': 79, 'atribuible': 14, 'directamente': 33, 'consumo': 23, 'realizado': 95, 'dentro': 28, 'visitantes': 130, 'residentes': 105, 'propension': 87, 'viajar': 126, 'poblacion': 83, 'realizo': 97, 'menos': 69, 'viaje': 127, 'pernocte': 80, 'ano': 7, 'referencia': 99, 'indice': 61, 'gini': 52, 'turisticos': 122, 'medida': 67, 'habitual': 54, 'aplicada': 8, 'cantidad': 16, 'realizados': 96, 'segun': 109, 'quintil': 93, 'ingresos': 65, 'valores': 125, 'cercanos': 19, 'implican': 57, 'mayor': 66, 'igualdad': 56, 'mientras': 70, 'proximos': 91, '100': 0, 'distribucion': 34, 'ocio': 76, 'indicador': 59, 'caso': 18, 'unicamente': 123, 'motivo': 71, 'esparcimiento': 41, 'recreacion': 98, 'excluyendose': 45, 'aquellos': 10, 'relacionados': 103, 'visita': 129, 'familiares': 47, 'amigos': 6, 'negocios': 73, 'motivos': 72, 'profesionales': 86, 'gasto': 51}\n",
            "\n",
            "IDF:\n",
            "[2.94591015 2.94591015 2.94591015 2.94591015 2.54044504 2.94591015\n",
            " 2.94591015 2.94591015 2.54044504 2.54044504 2.94591015 2.54044504\n",
            " 2.94591015 2.54044504 2.94591015 2.54044504 2.94591015 2.54044504\n",
            " 2.94591015 2.94591015 2.94591015 2.94591015 2.54044504 2.94591015\n",
            " 2.94591015 2.54044504 2.94591015 2.94591015 2.94591015 2.54044504\n",
            " 2.94591015 2.02961942 2.94591015 2.94591015 2.94591015 2.94591015\n",
            " 2.54044504 2.94591015 2.94591015 2.54044504 2.94591015 2.94591015\n",
            " 2.94591015 2.94591015 2.94591015 2.94591015 2.94591015 2.94591015\n",
            " 2.94591015 2.94591015 2.94591015 2.94591015 2.25276297 2.94591015\n",
            " 2.94591015 2.25276297 2.94591015 2.94591015 2.94591015 2.94591015\n",
            " 2.02961942 2.25276297 2.94591015 2.94591015 2.54044504 2.25276297\n",
            " 2.94591015 2.54044504 2.94591015 2.94591015 2.94591015 2.94591015\n",
            " 2.94591015 2.94591015 2.94591015 2.54044504 2.94591015 2.94591015\n",
            " 2.54044504 2.94591015 2.94591015 2.94591015 2.94591015 2.54044504\n",
            " 2.54044504 2.94591015 2.94591015 2.94591015 2.54044504 2.94591015\n",
            " 2.94591015 2.94591015 2.25276297 2.54044504 2.54044504 2.94591015\n",
            " 2.94591015 2.94591015 2.94591015 2.94591015 2.54044504 2.94591015\n",
            " 2.54044504 2.94591015 2.94591015 2.94591015 2.54044504 2.94591015\n",
            " 2.94591015 2.25276297 2.54044504 2.94591015 2.94591015 2.94591015\n",
            " 2.54044504 2.94591015 2.94591015 2.25276297 1.84729786 1.84729786\n",
            " 2.94591015 2.25276297 2.25276297 2.94591015 2.94591015 2.94591015\n",
            " 2.94591015 2.54044504 2.02961942 2.94591015 2.94591015]\n"
          ]
        }
      ]
    },
    {
      "cell_type": "code",
      "source": [
        "# Inicializamos el TfidfVectorizer\n",
        "vectorizer2_tfidf = TfidfVectorizer()"
      ],
      "metadata": {
        "id": "9arP58ovGBdG"
      },
      "execution_count": 887,
      "outputs": []
    },
    {
      "cell_type": "code",
      "source": [
        "# Ajustamos y transformamos nuestro corpus\n",
        "X_tfidf_2 = vectorizer2_tfidf.fit_transform(texto_plano)\n",
        "\n",
        "# Mostramos las características (palabras únicas en el corpus)\n",
        "print(\"Características: \", vectorizer2_tfidf.get_feature_names_out())\n",
        "\n",
        "# Mostramos la matriz TF-IDF resultante\n",
        "print(\"\\nMatriz TF-IDF:\")\n",
        "print(X_tfidf_2.toarray())\n",
        "\n",
        "# Resumen\n",
        "print(\"\\nVocabulario:\")\n",
        "print(vectorizer2_tfidf.vocabulary_)\n",
        "print(\"\\nIDF:\")\n",
        "print(vectorizer2_tfidf.idf_)"
      ],
      "metadata": {
        "id": "3Ksrl7S3FrkD",
        "colab": {
          "base_uri": "https://localhost:8080/"
        },
        "outputId": "56c483d6-ed63-40c6-f8ef-b44b64a2ad91"
      },
      "execution_count": 888,
      "outputs": [
        {
          "output_type": "stream",
          "name": "stdout",
          "text": [
            "Características:  ['100' '12' 'aborda' 'acceso' 'actividad' 'aglomerados' 'amigos' 'ano'\n",
            " 'aplicada' 'aporte' 'aquellos' 'argentina' 'asalariado' 'asalariados'\n",
            " 'atribuible' 'buscan' 'cantidad' 'caracteristicas' 'caso' 'cercanos'\n",
            " 'clasificadas' 'conceptos' 'conjunto' 'consumo' 'cst' 'cuenta' 'datos'\n",
            " 'definiciones' 'dentro' 'desarrollo' 'describe' 'desigualdad' 'detalle'\n",
            " 'directamente' 'distribucion' 'documento' 'economia' 'economica'\n",
            " 'elaborados' 'empleo' 'encuesta' 'esparcimiento' 'establecimientos'\n",
            " 'este' 'evyth' 'excluyendose' 'existentes' 'familiares' 'fuentas'\n",
            " 'fuente' 'fuentes' 'gasto' 'gini' 'grandes' 'habitual' 'hogares'\n",
            " 'igualdad' 'implican' 'incluye' 'indicador' 'indicadores' 'indice'\n",
            " 'industrias' 'informacion' 'informalidad' 'ingresos' 'mayor' 'medida'\n",
            " 'medir' 'menos' 'mientras' 'motivo' 'motivos' 'negocios' 'nivel'\n",
            " 'objetivos' 'ocio' 'ods' 'pais' 'parte' 'pernocte' 'pertenecientes' 'pib'\n",
            " 'poblacion' 'porcentaje' 'presenta' 'profesionales' 'propension'\n",
            " 'proporcion' 'propuesta' 'provienen' 'proximos' 'puestos' 'quintil'\n",
            " 'ramas' 'realizado' 'realizados' 'realizo' 'recreacion' 'referencia'\n",
            " 'reflejan' 'reflejar' 'registrados' 'relacionados' 'representativa'\n",
            " 'residentes' 'respecto' 'resto' 'satelite' 'segun' 'sostenible' 'suma'\n",
            " 'surge' 'tablero' 'tasa' 'terminos' 'toman' 'total' 'trabajo' 'turismo'\n",
            " 'turisticas' 'turistico' 'turisticos' 'unicamente' 'utilizadas' 'valores'\n",
            " 'viajar' 'viaje' 'viajes' 'visita' 'visitantes']\n",
            "\n",
            "Matriz TF-IDF:\n",
            "[[0.         0.         0.         ... 0.         0.         0.        ]\n",
            " [0.         0.17541542 0.17541542 ... 0.         0.         0.        ]\n",
            " [0.         0.         0.         ... 0.16675967 0.         0.        ]\n",
            " ...\n",
            " [0.         0.         0.         ... 0.28250672 0.20502352 0.        ]\n",
            " [0.         0.         0.         ... 0.         0.         0.        ]\n",
            " [0.         0.         0.         ... 0.         0.         0.        ]]\n",
            "\n",
            "Vocabulario:\n",
            "{'definiciones': 27, 'conceptos': 21, 'tablero': 113, 'presenta': 85, 'conjunto': 22, 'indicadores': 60, 'buscan': 15, 'reflejar': 101, 'aporte': 9, 'turismo': 119, 'objetivos': 75, 'desarrollo': 29, 'sostenible': 110, 'ods': 77, 'pais': 78, 'documento': 35, 'trabajo': 118, '12': 1, 'aborda': 2, 'propuesta': 89, 'describe': 30, 'detalle': 32, 'fuentas': 48, 'utilizadas': 124, 'elaborados': 38, 'fuentes': 50, 'informacion': 63, 'reflejan': 100, 'economia': 36, 'terminos': 115, 'actividad': 4, 'economica': 37, 'empleo': 39, 'tasa': 114, 'informalidad': 64, 'este': 43, 'provienen': 90, 'cuenta': 25, 'satelite': 108, 'argentina': 11, 'cst': 24, 'resto': 107, 'medir': 68, 'acceso': 3, 'nivel': 74, 'desigualdad': 31, 'toman': 116, 'fuente': 49, 'datos': 26, 'encuesta': 40, 'viajes': 128, 'hogares': 55, 'evyth': 44, 'representativa': 104, 'grandes': 53, 'aglomerados': 5, 'puestos': 92, 'industrias': 62, 'turisticas': 120, 'surge': 112, 'suma': 111, 'existentes': 46, 'establecimientos': 42, 'pertenecientes': 81, 'ramas': 94, 'clasificadas': 20, 'caracteristicas': 17, 'incluye': 58, 'asalariados': 13, 'registrados': 102, 'asalariado': 12, 'turistico': 121, 'proporcion': 88, 'respecto': 106, 'total': 117, 'porcentaje': 84, 'pib': 82, 'parte': 79, 'atribuible': 14, 'directamente': 33, 'consumo': 23, 'realizado': 95, 'dentro': 28, 'visitantes': 130, 'residentes': 105, 'propension': 87, 'viajar': 126, 'poblacion': 83, 'realizo': 97, 'menos': 69, 'viaje': 127, 'pernocte': 80, 'ano': 7, 'referencia': 99, 'indice': 61, 'gini': 52, 'turisticos': 122, 'medida': 67, 'habitual': 54, 'aplicada': 8, 'cantidad': 16, 'realizados': 96, 'segun': 109, 'quintil': 93, 'ingresos': 65, 'valores': 125, 'cercanos': 19, 'implican': 57, 'mayor': 66, 'igualdad': 56, 'mientras': 70, 'proximos': 91, '100': 0, 'distribucion': 34, 'ocio': 76, 'indicador': 59, 'caso': 18, 'unicamente': 123, 'motivo': 71, 'esparcimiento': 41, 'recreacion': 98, 'excluyendose': 45, 'aquellos': 10, 'relacionados': 103, 'visita': 129, 'familiares': 47, 'amigos': 6, 'negocios': 73, 'motivos': 72, 'profesionales': 86, 'gasto': 51}\n",
            "\n",
            "IDF:\n",
            "[2.94591015 2.94591015 2.94591015 2.94591015 2.54044504 2.94591015\n",
            " 2.94591015 2.94591015 2.54044504 2.54044504 2.94591015 2.54044504\n",
            " 2.94591015 2.54044504 2.94591015 2.54044504 2.94591015 2.54044504\n",
            " 2.94591015 2.94591015 2.94591015 2.94591015 2.54044504 2.94591015\n",
            " 2.94591015 2.54044504 2.94591015 2.94591015 2.94591015 2.54044504\n",
            " 2.94591015 2.02961942 2.94591015 2.94591015 2.94591015 2.94591015\n",
            " 2.54044504 2.94591015 2.94591015 2.54044504 2.94591015 2.94591015\n",
            " 2.94591015 2.94591015 2.94591015 2.94591015 2.94591015 2.94591015\n",
            " 2.94591015 2.94591015 2.94591015 2.94591015 2.25276297 2.94591015\n",
            " 2.94591015 2.25276297 2.94591015 2.94591015 2.94591015 2.94591015\n",
            " 2.02961942 2.25276297 2.94591015 2.94591015 2.54044504 2.25276297\n",
            " 2.94591015 2.54044504 2.94591015 2.94591015 2.94591015 2.94591015\n",
            " 2.94591015 2.94591015 2.94591015 2.54044504 2.94591015 2.94591015\n",
            " 2.54044504 2.94591015 2.94591015 2.94591015 2.94591015 2.54044504\n",
            " 2.54044504 2.94591015 2.94591015 2.94591015 2.54044504 2.94591015\n",
            " 2.94591015 2.94591015 2.25276297 2.54044504 2.54044504 2.94591015\n",
            " 2.94591015 2.94591015 2.94591015 2.94591015 2.54044504 2.94591015\n",
            " 2.54044504 2.94591015 2.94591015 2.94591015 2.54044504 2.94591015\n",
            " 2.94591015 2.25276297 2.54044504 2.94591015 2.94591015 2.94591015\n",
            " 2.54044504 2.94591015 2.94591015 2.25276297 1.84729786 1.84729786\n",
            " 2.94591015 2.25276297 2.25276297 2.94591015 2.94591015 2.94591015\n",
            " 2.94591015 2.54044504 2.02961942 2.94591015 2.94591015]\n"
          ]
        }
      ]
    }
  ]
}